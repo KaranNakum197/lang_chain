# Install updated packages
!pip install --upgrade langchain langchain-community openai

# Set API key securely
import os
from getpass import getpass
os.environ["OPENAI_API_KEY"] = getpass("Enter your OpenAI API key:")

# Import modules
from langchain_community.chat_models import ChatOpenAI
from langchain.prompts import PromptTemplate
from langchain.chains import LLMChain

# Initialize model
chat = ChatOpenAI(model_name="gpt-3.5-turbo", temperature=0.7)

# Prompt template
template = """
You are a helpful assistant. Use the following question and provide a detailed response.

Question: {user_question}
"""

prompt = PromptTemplate(
    input_variables=["user_question"],# for user question to get 
    template=template
)

# Chain
qa_chain = LLMChain(llm=chat, prompt=prompt)# type of conversion from 

# Ask a question
question = "What is LangChain and how can it be used with OpenAI?"
response = qa_chain.run(user_question=question)
print("Answer:", response)
